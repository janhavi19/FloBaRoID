{
 "cells": [
  {
   "cell_type": "code",
   "execution_count": 2,
   "metadata": {},
   "outputs": [],
   "source": [
    "import PyKDL\n",
    "from PyKDL import *\n",
    "import numpy as np\n",
    "from scipy.spatial import distance"
   ]
  },
  {
   "cell_type": "code",
   "execution_count": 3,
   "metadata": {},
   "outputs": [],
   "source": [
    "# creating robot chain using KDL\n",
    "chain = Chain()\n",
    "segment0=Segment((Joint(Joint.None) ),(Frame().DH (0, 0, 0, 0)))\n",
    "chain.addSegment(segment0) \n",
    "segment1=Segment((Joint(Joint.RotZ) ),(Frame().DH (0, 0, 0.147, 0)))\n",
    "chain.addSegment(segment1)\n",
    "segment2=Segment((Joint(Joint.RotZ) ),(Frame().DH (0.033, np.deg2rad(-90.0), 0, np.deg2rad(-90.0))))\n",
    "chain.addSegment(segment2)\n",
    "segment3=Segment((Joint(Joint.RotZ) ),(Frame().DH (0.155, 0, 0, 0)))\n",
    "chain.addSegment(segment3)\n",
    "segment4=Segment((Joint(Joint.RotZ) ),(Frame().DH (0.135, 0, 0, np.deg2rad(90.0))))\n",
    "chain.addSegment(segment4)\n",
    "segment5=Segment((Joint(Joint.RotZ) ),(Frame().DH (0, np.deg2rad(90.0), 0.171, 0)))\n",
    "chain.addSegment(segment5)\n"
   ]
  },
  {
   "cell_type": "code",
   "execution_count": 4,
   "metadata": {},
   "outputs": [
    {
     "name": "stdout",
     "output_type": "stream",
     "text": [
      "[  -0.0984368,   -0.139849,    0.135745]\n"
     ]
    }
   ],
   "source": [
    "#Forward kinematics\n",
    "q = [2.9496,1.1344,-2.5482,1.789,2.9234] #test q :for testing the collison \n",
    "jointAngles=JntArray(5) \n",
    "\n",
    "for i in range(len(q)):\n",
    "    jointAngles[i] = q[i]\n",
    "fk=ChainFkSolverPos_recursive(chain)\n",
    "finalFrame=Frame()\n",
    "fk.JntToCart(jointAngles,finalFrame)\n",
    "#print (\"End-effector position: \",finalFrame.p)\n",
    "pose = finalFrame.p\n",
    "z = pose[2]\n",
    "if (z<0.08):\n",
    "    print(\"collision with ground\")\n",
    "    \n",
    "# check collision between link 1 and endeffector\n",
    "# Finding x and y coordinates for link 1 pose using trignometry formula \n",
    "# x=lcos(theta),y=lsin(theta)\n",
    "origin = (0, 0, 0)\n",
    "end_eff = (pose[0], pose[1], pose[2])\n",
    "dst = distance.euclidean(origin, end_eff)\n",
    "if (dst<0.1):\n",
    "    print(\"collision between link 1 and endeffector\")\n",
    "print(pose)\n",
    "\n"
   ]
  },
  {
   "cell_type": "code",
   "execution_count": 5,
   "metadata": {},
   "outputs": [
    {
     "ename": "ImportError",
     "evalue": "No module named rospy",
     "output_type": "error",
     "traceback": [
      "\u001b[0;31m---------------------------------------------------------------------------\u001b[0m",
      "\u001b[0;31mImportError\u001b[0m                               Traceback (most recent call last)",
      "\u001b[0;32m<ipython-input-5-2cc7df67ade1>\u001b[0m in \u001b[0;36m<module>\u001b[0;34m()\u001b[0m\n\u001b[0;32m----> 1\u001b[0;31m \u001b[0;32mfrom\u001b[0m \u001b[0myoubot_pykdl\u001b[0m \u001b[0;32mimport\u001b[0m \u001b[0myoubot_kinematics\u001b[0m\u001b[0;34m\u001b[0m\u001b[0m\n\u001b[0m\u001b[1;32m      2\u001b[0m \u001b[0mkin\u001b[0m \u001b[0;34m=\u001b[0m \u001b[0myoubot_kinematics\u001b[0m\u001b[0;34m(\u001b[0m\u001b[0mopen\u001b[0m\u001b[0;34m(\u001b[0m\u001b[0;34m'/home/admin/rnd_test/FloBaRoID/model/youbot_arm_only.urdf'\u001b[0m\u001b[0;34m)\u001b[0m\u001b[0;34m.\u001b[0m\u001b[0mread\u001b[0m\u001b[0;34m(\u001b[0m\u001b[0;34m)\u001b[0m\u001b[0;34m)\u001b[0m\u001b[0;34m\u001b[0m\u001b[0m\n\u001b[1;32m      3\u001b[0m \u001b[0mkin\u001b[0m\u001b[0;34m.\u001b[0m\u001b[0mprint_kdl_chain\u001b[0m\u001b[0;34m(\u001b[0m\u001b[0;34m)\u001b[0m\u001b[0;34m\u001b[0m\u001b[0m\n\u001b[1;32m      4\u001b[0m \u001b[0mtest_jt_angles\u001b[0m \u001b[0;34m=\u001b[0m \u001b[0;34m[\u001b[0m\u001b[0;36m0\u001b[0m\u001b[0;34m,\u001b[0m \u001b[0;36m0\u001b[0m\u001b[0;34m,\u001b[0m \u001b[0;36m0\u001b[0m \u001b[0;34m,\u001b[0m \u001b[0;36m0\u001b[0m\u001b[0;34m,\u001b[0m \u001b[0;36m0\u001b[0m\u001b[0;34m]\u001b[0m\u001b[0;34m\u001b[0m\u001b[0m\n\u001b[1;32m      5\u001b[0m \u001b[0;32mprint\u001b[0m \u001b[0mkin\u001b[0m\u001b[0;34m.\u001b[0m\u001b[0mforward_position_kinematics\u001b[0m\u001b[0;34m(\u001b[0m\u001b[0mtest_jt_angles\u001b[0m\u001b[0;34m)\u001b[0m\u001b[0;34m\u001b[0m\u001b[0m\n",
      "\u001b[0;32m/usr/local/lib/python2.7/dist-packages/youbot_pykdl/__init__.py\u001b[0m in \u001b[0;36m<module>\u001b[0;34m()\u001b[0m\n\u001b[1;32m     27\u001b[0m \u001b[0;31m# POSSIBILITY OF SUCH DAMAGE.\u001b[0m\u001b[0;34m\u001b[0m\u001b[0;34m\u001b[0m\u001b[0m\n\u001b[1;32m     28\u001b[0m \u001b[0;34m\u001b[0m\u001b[0m\n\u001b[0;32m---> 29\u001b[0;31m from .youbot_pykdl import (\n\u001b[0m\u001b[1;32m     30\u001b[0m     \u001b[0myoubot_kinematics\u001b[0m\u001b[0;34m,\u001b[0m\u001b[0;34m\u001b[0m\u001b[0m\n\u001b[1;32m     31\u001b[0m )\n",
      "\u001b[0;32m/usr/local/lib/python2.7/dist-packages/youbot_pykdl/youbot_pykdl.py\u001b[0m in \u001b[0;36m<module>\u001b[0;34m()\u001b[0m\n\u001b[1;32m     31\u001b[0m \u001b[0;32mimport\u001b[0m \u001b[0mPyKDL\u001b[0m\u001b[0;34m\u001b[0m\u001b[0m\n\u001b[1;32m     32\u001b[0m \u001b[0;34m\u001b[0m\u001b[0m\n\u001b[0;32m---> 33\u001b[0;31m \u001b[0;32mimport\u001b[0m \u001b[0mrospy\u001b[0m\u001b[0;34m\u001b[0m\u001b[0m\n\u001b[0m\u001b[1;32m     34\u001b[0m \u001b[0;34m\u001b[0m\u001b[0m\n\u001b[1;32m     35\u001b[0m \u001b[0;31m#import youbot_interface\u001b[0m\u001b[0;34m\u001b[0m\u001b[0;34m\u001b[0m\u001b[0m\n",
      "\u001b[0;31mImportError\u001b[0m: No module named rospy"
     ]
    }
   ],
   "source": [
    "from youbot_pykdl import youbot_kinematics\n",
    "kin = youbot_kinematics(open('/home/admin/rnd_test/FloBaRoID/model/youbot_arm_only.urdf').read())\n",
    "kin.print_kdl_chain()\n",
    "test_jt_angles = [0, 0, 0 , 0, 0]\n",
    "print kin.forward_position_kinematics(test_jt_angles)"
   ]
  },
  {
   "cell_type": "code",
   "execution_count": null,
   "metadata": {},
   "outputs": [],
   "source": []
  }
 ],
 "metadata": {
  "kernelspec": {
   "display_name": "Python 2",
   "language": "python",
   "name": "python2"
  },
  "language_info": {
   "codemirror_mode": {
    "name": "ipython",
    "version": 2
   },
   "file_extension": ".py",
   "mimetype": "text/x-python",
   "name": "python",
   "nbconvert_exporter": "python",
   "pygments_lexer": "ipython2",
   "version": "2.7.12"
  }
 },
 "nbformat": 4,
 "nbformat_minor": 2
}
